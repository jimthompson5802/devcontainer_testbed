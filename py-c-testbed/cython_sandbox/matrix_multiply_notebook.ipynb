{
 "cells": [
  {
   "cell_type": "code",
   "execution_count": 1,
   "metadata": {},
   "outputs": [],
   "source": [
    "%load_ext Cython"
   ]
  },
  {
   "cell_type": "code",
   "execution_count": 2,
   "metadata": {},
   "outputs": [
    {
     "data": {
      "text/plain": [
       "(array([[1., 2., 3.],\n",
       "        [4., 5., 6.]]),\n",
       " array([[ 7.,  8.],\n",
       "        [ 9., 10.],\n",
       "        [11., 12.]]))"
      ]
     },
     "execution_count": 2,
     "metadata": {},
     "output_type": "execute_result"
    }
   ],
   "source": [
    "import numpy as np \n",
    "\n",
    "A = np.array([[1, 2, 3], [4, 5, 6]]).astype(np.float64)\n",
    "B = np.array([[7, 8], [9, 10], [11, 12]]).astype(np.float64)\n",
    "A,B"
   ]
  },
  {
   "cell_type": "markdown",
   "metadata": {},
   "source": [
    "## NUMPY Matrix Multiplication (Naive)"
   ]
  },
  {
   "cell_type": "code",
   "execution_count": 3,
   "metadata": {},
   "outputs": [],
   "source": [
    "# define naive matrix multiplication in numpy\n",
    "import numpy as np\n",
    "\n",
    "def matrix_multiply_np(A, B):\n",
    "    result = np.zeros((A.shape[0], B.shape[1]))\n",
    "\n",
    "    for i in range(A.shape[0]):\n",
    "        for j in range(B.shape[1]):\n",
    "            for k in range(A.shape[1]):\n",
    "                result[i, j] += A[i, k] * B[k, j]\n",
    "    return result\n"
   ]
  },
  {
   "cell_type": "code",
   "execution_count": 4,
   "metadata": {},
   "outputs": [
    {
     "name": "stdout",
     "output_type": "stream",
     "text": [
      "CPU times: user 93 µs, sys: 0 ns, total: 93 µs\n",
      "Wall time: 97.8 µs\n"
     ]
    },
    {
     "data": {
      "text/plain": [
       "array([[ 58.,  64.],\n",
       "       [139., 154.]])"
      ]
     },
     "execution_count": 4,
     "metadata": {},
     "output_type": "execute_result"
    }
   ],
   "source": [
    "\n",
    "%%time\n",
    "numpy_result = matrix_multiply_np(A, B)\n",
    "numpy_result"
   ]
  },
  {
   "cell_type": "markdown",
   "metadata": {},
   "source": [
    "## NUMPY Matrix Multiplication (vectorized)"
   ]
  },
  {
   "cell_type": "code",
   "execution_count": 5,
   "metadata": {},
   "outputs": [
    {
     "name": "stdout",
     "output_type": "stream",
     "text": [
      "CPU times: user 132 µs, sys: 66 µs, total: 198 µs\n",
      "Wall time: 202 µs\n"
     ]
    },
    {
     "data": {
      "text/plain": [
       "array([[ 58.,  64.],\n",
       "       [139., 154.]])"
      ]
     },
     "execution_count": 5,
     "metadata": {},
     "output_type": "execute_result"
    }
   ],
   "source": [
    "\n",
    "%%time\n",
    "numpy_result_vec = np.matmul(A, B)\n",
    "numpy_result_vec"
   ]
  },
  {
   "cell_type": "markdown",
   "metadata": {},
   "source": [
    "## NUMBA Matrix Multiplication"
   ]
  },
  {
   "cell_type": "code",
   "execution_count": 6,
   "metadata": {},
   "outputs": [],
   "source": [
    "import numba \n",
    "\n",
    "@numba.jit(nopython=True)\n",
    "def matrix_multiply_numba(A, B):\n",
    "    result = np.zeros((A.shape[0], B.shape[1]))\n",
    "\n",
    "    for i in range(A.shape[0]):\n",
    "        for j in range(B.shape[1]):\n",
    "            for k in range(A.shape[1]):\n",
    "                result[i, j] += A[i, k] * B[k, j]\n",
    "    return result\n",
    "\n"
   ]
  },
  {
   "cell_type": "markdown",
   "metadata": {},
   "source": [
    "## First time NUMBA Function is called"
   ]
  },
  {
   "cell_type": "code",
   "execution_count": 7,
   "metadata": {},
   "outputs": [
    {
     "name": "stdout",
     "output_type": "stream",
     "text": [
      "CPU times: user 1.35 s, sys: 1.07 s, total: 2.42 s\n",
      "Wall time: 694 ms\n"
     ]
    },
    {
     "data": {
      "text/plain": [
       "array([[ 58.,  64.],\n",
       "       [139., 154.]])"
      ]
     },
     "execution_count": 7,
     "metadata": {},
     "output_type": "execute_result"
    }
   ],
   "source": [
    "%%time\n",
    "numba_result = matrix_multiply_numba(A, B)\n",
    "numba_result"
   ]
  },
  {
   "cell_type": "markdown",
   "metadata": {},
   "source": [
    "## Second time NUMBA Function is called"
   ]
  },
  {
   "cell_type": "code",
   "execution_count": 8,
   "metadata": {},
   "outputs": [
    {
     "name": "stdout",
     "output_type": "stream",
     "text": [
      "CPU times: user 20 µs, sys: 12 µs, total: 32 µs\n",
      "Wall time: 36 µs\n"
     ]
    },
    {
     "data": {
      "text/plain": [
       "array([[ 58.,  64.],\n",
       "       [139., 154.]])"
      ]
     },
     "execution_count": 8,
     "metadata": {},
     "output_type": "execute_result"
    }
   ],
   "source": [
    "%%time\n",
    "numba_result = matrix_multiply_numba(A, B)\n",
    "numba_result"
   ]
  },
  {
   "cell_type": "markdown",
   "metadata": {},
   "source": [
    "## CYTHON Matrix Multiplication Version 0"
   ]
  },
  {
   "cell_type": "code",
   "execution_count": 9,
   "metadata": {},
   "outputs": [],
   "source": [
    "%%cython\n",
    "import numpy as np\n",
    "import cython\n",
    "\n",
    "def matrix_multiply_cython0(A, B):\n",
    "    result = np.zeros((A.shape[0], B.shape[1]))\n",
    "\n",
    "    for i in range(A.shape[0]):\n",
    "        for j in range(B.shape[1]):\n",
    "            for k in range(A.shape[1]):\n",
    "                result[i, j] += A[i, k] * B[k, j]\n",
    "    return result\n",
    "\n"
   ]
  },
  {
   "cell_type": "code",
   "execution_count": 11,
   "metadata": {},
   "outputs": [
    {
     "name": "stdout",
     "output_type": "stream",
     "text": [
      "CPU times: user 2 µs, sys: 0 ns, total: 2 µs\n",
      "Wall time: 4.77 µs\n"
     ]
    },
    {
     "data": {
      "text/plain": [
       "array([[ 58.,  64.],\n",
       "       [139., 154.]])"
      ]
     },
     "execution_count": 11,
     "metadata": {},
     "output_type": "execute_result"
    }
   ],
   "source": [
    "%time \n",
    "cython_result = matrix_multiply_cython0(A, B)\n",
    "cython_result"
   ]
  },
  {
   "cell_type": "markdown",
   "metadata": {},
   "source": [
    "## CYTHON Matrix Multiplication Version 1"
   ]
  },
  {
   "cell_type": "code",
   "execution_count": 10,
   "metadata": {},
   "outputs": [],
   "source": [
    "%%cython\n",
    "import numpy as np\n",
    "import cython\n",
    "\n",
    "@cython.boundscheck(False)\n",
    "@cython.wraparound(False)\n",
    "@cython.locals(A=cython.double[:, :], B=cython.double[:, :], result=cython.double[:,:], i=cython.int, j=cython.int, k=cython.int)\n",
    "def matrix_multiply_cython1(A, B):\n",
    "    result = np.zeros((A.shape[0], B.shape[1]))\n",
    "\n",
    "    for i in range(A.shape[0]):\n",
    "        for j in range(B.shape[1]):\n",
    "            for k in range(A.shape[1]):\n",
    "                result[i, j] += A[i, k] * B[k, j]\n",
    "    return np.asarray(result)\n",
    "\n"
   ]
  },
  {
   "cell_type": "code",
   "execution_count": 12,
   "metadata": {},
   "outputs": [
    {
     "name": "stdout",
     "output_type": "stream",
     "text": [
      "CPU times: user 3 µs, sys: 0 ns, total: 3 µs\n",
      "Wall time: 5.48 µs\n"
     ]
    },
    {
     "data": {
      "text/plain": [
       "array([[ 58.,  64.],\n",
       "       [139., 154.]])"
      ]
     },
     "execution_count": 12,
     "metadata": {},
     "output_type": "execute_result"
    }
   ],
   "source": [
    "%time \n",
    "cython_result = matrix_multiply_cython1(A, B)\n",
    "cython_result"
   ]
  },
  {
   "cell_type": "markdown",
   "metadata": {},
   "source": [
    "## CYTHON Matrix Multiplication Version 2"
   ]
  },
  {
   "cell_type": "code",
   "execution_count": 13,
   "metadata": {},
   "outputs": [],
   "source": [
    "%%cython\n",
    "\n",
    "import numpy as np\n",
    "\n",
    "cimport cython\n",
    "from libc.stdlib cimport calloc, free\n",
    "\n",
    "@cython.boundscheck(False)\n",
    "@cython.wraparound(False)\n",
    "cpdef matrix_multiply_cython2(double[:, ::1] A, double [:, ::1] B):\n",
    "    # Declare integer variables for loop counters and matrix dimensions\n",
    "    cdef int i, j, k\n",
    "    cdef int nrows_A = len(A)  # Number of rows in matrix A\n",
    "    cdef int ncols_B = len(B[0])  # Number of columns in matrix B\n",
    "    cdef int ncols_A = len(A[0])  # Number of columns in matrix A\n",
    "\n",
    "    # Allocate memory for the result matrix and initialize it with zeros\n",
    "    cdef double[:,:] result = <double[:nrows_A, :ncols_B]> calloc(nrows_A * ncols_B, sizeof(double))\n",
    "\n",
    "    # Perform matrix multiplication\n",
    "    for i in range(nrows_A):  # Iterate over rows of A\n",
    "        for j in range(ncols_B):  # Iterate over columns of B\n",
    "            # Compute dot product of i-th row of A and j-th column of B\n",
    "            for k in range(ncols_A):\n",
    "                result[i, j] += A[i, k] * B[k, j]\n",
    "\n",
    "    # Return the result matrix\n",
    "    return np.asarray(result)"
   ]
  },
  {
   "cell_type": "code",
   "execution_count": 14,
   "metadata": {},
   "outputs": [
    {
     "name": "stdout",
     "output_type": "stream",
     "text": [
      "CPU times: user 3 µs, sys: 0 ns, total: 3 µs\n",
      "Wall time: 5.48 µs\n"
     ]
    },
    {
     "data": {
      "text/plain": [
       "array([[ 58.,  64.],\n",
       "       [139., 154.]])"
      ]
     },
     "execution_count": 14,
     "metadata": {},
     "output_type": "execute_result"
    }
   ],
   "source": [
    "%time \n",
    "cython_result2 = matrix_multiply_cython2(A, B)\n",
    "cython_result2"
   ]
  },
  {
   "cell_type": "markdown",
   "metadata": {},
   "source": [
    "## TAICHI Matrix Multiplication"
   ]
  },
  {
   "cell_type": "code",
   "execution_count": 15,
   "metadata": {},
   "outputs": [
    {
     "name": "stdout",
     "output_type": "stream",
     "text": [
      "[Taichi] version 1.7.0, llvm 15.0.4, commit 2fd24490, linux, python 3.10.12\n"
     ]
    },
    {
     "name": "stderr",
     "output_type": "stream",
     "text": [
      "[I 01/01/24 12:47:09.361 2547] [shell.py:_shell_pop_print@23] Graphical python shell detected, using wrapped sys.stdout\n"
     ]
    },
    {
     "name": "stdout",
     "output_type": "stream",
     "text": [
      "[Taichi] Starting on arch=x64\n"
     ]
    }
   ],
   "source": [
    "import taichi as ti\n",
    "\n",
    "ti.init(arch=ti.cpu)  # Use CPU by default\n",
    "\n",
    "def matrix_multiply_taichi(A: np.ndarray, B: np.ndarray) -> np.ndarray:\n",
    "    C = ti.field(shape=(A.shape[0], B.shape[1]), dtype=ti.f64)\n",
    "\n",
    "    # Convert the numpy arrays to Taichi ndarrays\n",
    "    A_ti = ti.field(shape=A.shape, dtype=ti.f64)\n",
    "    B_ti = ti.field(shape=B.shape, dtype=ti.f64)\n",
    "    A_ti.from_numpy(A)\n",
    "    B_ti.from_numpy(B)\n",
    "    sum = ti.field(dtype=ti.f64, shape=())\n",
    "\n",
    "    @ti.kernel\n",
    "    def _taichi_compute():\n",
    "        ti.loop_config(serialize=True)\n",
    "        for i in range(A.shape[0]):\n",
    "            for j in range(B.shape[1]):\n",
    "                sum[None] = 0.0\n",
    "                for k in range(A.shape[1]):\n",
    "                    sum[None] += A_ti[i, k] * B_ti[k, j]\n",
    "                C[i,j] = sum[None]\n",
    "\n",
    "    _taichi_compute()\n",
    "    return C.to_numpy()\n"
   ]
  },
  {
   "cell_type": "code",
   "execution_count": 16,
   "metadata": {},
   "outputs": [
    {
     "name": "stdout",
     "output_type": "stream",
     "text": [
      "CPU times: user 3 µs, sys: 0 ns, total: 3 µs\n",
      "Wall time: 6.44 µs\n"
     ]
    },
    {
     "data": {
      "text/plain": [
       "array([[ 58.,  64.],\n",
       "       [139., 154.]])"
      ]
     },
     "execution_count": 16,
     "metadata": {},
     "output_type": "execute_result"
    }
   ],
   "source": [
    "%time \n",
    "taichi_result = matrix_multiply_taichi(A, B)\n",
    "taichi_result"
   ]
  },
  {
   "cell_type": "code",
   "execution_count": 17,
   "metadata": {},
   "outputs": [
    {
     "name": "stdout",
     "output_type": "stream",
     "text": [
      "CPU times: user 3 µs, sys: 0 ns, total: 3 µs\n",
      "Wall time: 5.72 µs\n"
     ]
    },
    {
     "data": {
      "text/plain": [
       "array([[ 58.,  64.],\n",
       "       [139., 154.]])"
      ]
     },
     "execution_count": 17,
     "metadata": {},
     "output_type": "execute_result"
    }
   ],
   "source": [
    "%time \n",
    "taichi_result = matrix_multiply_taichi(A, B)\n",
    "taichi_result"
   ]
  },
  {
   "cell_type": "markdown",
   "metadata": {},
   "source": [
    "## Large Matrix Multiplication"
   ]
  },
  {
   "cell_type": "code",
   "execution_count": 18,
   "metadata": {},
   "outputs": [
    {
     "data": {
      "text/plain": [
       "((200, 200), (200, 200))"
      ]
     },
     "execution_count": 18,
     "metadata": {},
     "output_type": "execute_result"
    }
   ],
   "source": [
    "# list to collect run-time metrics\n",
    "# initialize with results for native C implementation\n",
    "test_results = [\n",
    "    {\"function\": \"native_c\", \"duration\": 0.009, \"results\": None}\n",
    "]\n",
    "\n",
    "DIM_SIZE = 200\n",
    "np.random.seed(0)\n",
    "# Create two random square matrices\n",
    "A = np.random.rand(DIM_SIZE, DIM_SIZE)\n",
    "B = np.random.rand(DIM_SIZE, DIM_SIZE)\n",
    "A.shape, B.shape\n"
   ]
  },
  {
   "cell_type": "code",
   "execution_count": 19,
   "metadata": {},
   "outputs": [
    {
     "name": "stdout",
     "output_type": "stream",
     "text": [
      "starting test run 0\n",
      "starting test run 1\n",
      "starting test run 2\n",
      "starting test run 3\n",
      "starting test run 4\n",
      "starting test run 5\n",
      "starting test run 6\n",
      "starting test run 7\n",
      "starting test run 8\n",
      "starting test run 9\n",
      "CPU times: user 1min 18s, sys: 7.96 s, total: 1min 26s\n",
      "Wall time: 1min 8s\n"
     ]
    }
   ],
   "source": [
    "%%time\n",
    "import time\n",
    "import pandas as pd\n",
    "import gc\n",
    "\n",
    "# helper function to test the different implementations of matrix multiplication\n",
    "def test_function(function, identifier, A, B):\n",
    "    gc.disable()\n",
    "    start_time = time.time()\n",
    "    C = function(A, B)\n",
    "    end_time = time.time()\n",
    "    duration = end_time - start_time\n",
    "    gc.enable()\n",
    "\n",
    "    return {\"function\": identifier, \"duration\": duration, \"results\": C}\n",
    "\n",
    "\n",
    "# setup test scenarios\n",
    "test_scenarios = [\n",
    "    {\"function\": matrix_multiply_np, \"identifier\": \"np_hand_coded\", \"A\": A, \"B\": B},\n",
    "    {\"function\": np.matmul, \"identifier\": \"np_builtin\", \"A\": A, \"B\": B},\n",
    "    {\"function\": matrix_multiply_numba, \"identifier\": \"numba\", \"A\": A, \"B\": B},\n",
    "    {\"function\": matrix_multiply_cython0, \"identifier\": \"cythonv0\", \"A\": A, \"B\": B},\n",
    "    {\"function\": matrix_multiply_cython1, \"identifier\": \"cythonv1\", \"A\": A, \"B\": B},\n",
    "    {\"function\": matrix_multiply_cython2, \"identifier\": \"cythonv2\", \"A\": A, \"B\": B},\n",
    "    {\"function\": matrix_multiply_taichi, \"identifier\": \"taichi\", \"A\": A, \"B\": B},\n",
    "]\n",
    "\n",
    "for t in range(10):\n",
    "    print(f\"starting test run {t}\")\n",
    "    for ts in test_scenarios:\n",
    "        test_results.append(test_function(ts[\"function\"], ts[\"identifier\"], ts[\"A\"], ts[\"B\"]))\n"
   ]
  },
  {
   "cell_type": "code",
   "execution_count": 24,
   "metadata": {},
   "outputs": [
    {
     "data": {
      "text/html": [
       "<div>\n",
       "<style scoped>\n",
       "    .dataframe tbody tr th:only-of-type {\n",
       "        vertical-align: middle;\n",
       "    }\n",
       "\n",
       "    .dataframe tbody tr th {\n",
       "        vertical-align: top;\n",
       "    }\n",
       "\n",
       "    .dataframe thead th {\n",
       "        text-align: right;\n",
       "    }\n",
       "</style>\n",
       "<table border=\"1\" class=\"dataframe\">\n",
       "  <thead>\n",
       "    <tr style=\"text-align: right;\">\n",
       "      <th></th>\n",
       "      <th>function</th>\n",
       "      <th>duration</th>\n",
       "      <th>results</th>\n",
       "    </tr>\n",
       "  </thead>\n",
       "  <tbody>\n",
       "    <tr>\n",
       "      <th>0</th>\n",
       "      <td>native_c</td>\n",
       "      <td>0.009000</td>\n",
       "      <td>None</td>\n",
       "    </tr>\n",
       "    <tr>\n",
       "      <th>1</th>\n",
       "      <td>np_hand_coded</td>\n",
       "      <td>3.736893</td>\n",
       "      <td>[[46.7619035508464, 51.01059403987534, 50.7739...</td>\n",
       "    </tr>\n",
       "    <tr>\n",
       "      <th>2</th>\n",
       "      <td>np_builtin</td>\n",
       "      <td>0.004764</td>\n",
       "      <td>[[46.7619035508464, 51.01059403987535, 50.7739...</td>\n",
       "    </tr>\n",
       "    <tr>\n",
       "      <th>3</th>\n",
       "      <td>numba</td>\n",
       "      <td>0.010420</td>\n",
       "      <td>[[46.7619035508464, 51.01059403987534, 50.7739...</td>\n",
       "    </tr>\n",
       "    <tr>\n",
       "      <th>4</th>\n",
       "      <td>cythonv0</td>\n",
       "      <td>3.303613</td>\n",
       "      <td>[[46.7619035508464, 51.01059403987534, 50.7739...</td>\n",
       "    </tr>\n",
       "    <tr>\n",
       "      <th>...</th>\n",
       "      <td>...</td>\n",
       "      <td>...</td>\n",
       "      <td>...</td>\n",
       "    </tr>\n",
       "    <tr>\n",
       "      <th>66</th>\n",
       "      <td>numba</td>\n",
       "      <td>0.008977</td>\n",
       "      <td>[[46.7619035508464, 51.01059403987534, 50.7739...</td>\n",
       "    </tr>\n",
       "    <tr>\n",
       "      <th>67</th>\n",
       "      <td>cythonv0</td>\n",
       "      <td>3.019992</td>\n",
       "      <td>[[46.7619035508464, 51.01059403987534, 50.7739...</td>\n",
       "    </tr>\n",
       "    <tr>\n",
       "      <th>68</th>\n",
       "      <td>cythonv1</td>\n",
       "      <td>0.008293</td>\n",
       "      <td>[[46.7619035508464, 51.01059403987534, 50.7739...</td>\n",
       "    </tr>\n",
       "    <tr>\n",
       "      <th>69</th>\n",
       "      <td>cythonv2</td>\n",
       "      <td>0.007329</td>\n",
       "      <td>[[46.7619035508464, 51.01059403987534, 50.7739...</td>\n",
       "    </tr>\n",
       "    <tr>\n",
       "      <th>70</th>\n",
       "      <td>taichi</td>\n",
       "      <td>0.192942</td>\n",
       "      <td>[[46.76190355084639, 51.010594039875365, 50.77...</td>\n",
       "    </tr>\n",
       "  </tbody>\n",
       "</table>\n",
       "<p>71 rows × 3 columns</p>\n",
       "</div>"
      ],
      "text/plain": [
       "         function  duration                                            results\n",
       "0        native_c  0.009000                                               None\n",
       "1   np_hand_coded  3.736893  [[46.7619035508464, 51.01059403987534, 50.7739...\n",
       "2      np_builtin  0.004764  [[46.7619035508464, 51.01059403987535, 50.7739...\n",
       "3           numba  0.010420  [[46.7619035508464, 51.01059403987534, 50.7739...\n",
       "4        cythonv0  3.303613  [[46.7619035508464, 51.01059403987534, 50.7739...\n",
       "..            ...       ...                                                ...\n",
       "66          numba  0.008977  [[46.7619035508464, 51.01059403987534, 50.7739...\n",
       "67       cythonv0  3.019992  [[46.7619035508464, 51.01059403987534, 50.7739...\n",
       "68       cythonv1  0.008293  [[46.7619035508464, 51.01059403987534, 50.7739...\n",
       "69       cythonv2  0.007329  [[46.7619035508464, 51.01059403987534, 50.7739...\n",
       "70         taichi  0.192942  [[46.76190355084639, 51.010594039875365, 50.77...\n",
       "\n",
       "[71 rows x 3 columns]"
      ]
     },
     "execution_count": 24,
     "metadata": {},
     "output_type": "execute_result"
    }
   ],
   "source": [
    "df = pd.DataFrame(test_results)\n",
    "df\n"
   ]
  },
  {
   "cell_type": "code",
   "execution_count": 25,
   "metadata": {},
   "outputs": [
    {
     "data": {
      "text/html": [
       "<div>\n",
       "<style scoped>\n",
       "    .dataframe tbody tr th:only-of-type {\n",
       "        vertical-align: middle;\n",
       "    }\n",
       "\n",
       "    .dataframe tbody tr th {\n",
       "        vertical-align: top;\n",
       "    }\n",
       "\n",
       "    .dataframe thead th {\n",
       "        text-align: right;\n",
       "    }\n",
       "</style>\n",
       "<table border=\"1\" class=\"dataframe\">\n",
       "  <thead>\n",
       "    <tr style=\"text-align: right;\">\n",
       "      <th></th>\n",
       "      <th>function</th>\n",
       "      <th>duration</th>\n",
       "      <th>results</th>\n",
       "      <th>speed_up</th>\n",
       "    </tr>\n",
       "  </thead>\n",
       "  <tbody>\n",
       "    <tr>\n",
       "      <th>0</th>\n",
       "      <td>np_builtin</td>\n",
       "      <td>0.001145</td>\n",
       "      <td>[[46.7619035508464, 51.01059403987535, 50.7739...</td>\n",
       "      <td>3081.945404</td>\n",
       "    </tr>\n",
       "    <tr>\n",
       "      <th>1</th>\n",
       "      <td>cythonv2</td>\n",
       "      <td>0.008039</td>\n",
       "      <td>[[46.7619035508464, 51.01059403987534, 50.7739...</td>\n",
       "      <td>439.165337</td>\n",
       "    </tr>\n",
       "    <tr>\n",
       "      <th>2</th>\n",
       "      <td>cythonv1</td>\n",
       "      <td>0.008202</td>\n",
       "      <td>[[46.7619035508464, 51.01059403987534, 50.7739...</td>\n",
       "      <td>430.434347</td>\n",
       "    </tr>\n",
       "    <tr>\n",
       "      <th>3</th>\n",
       "      <td>native_c</td>\n",
       "      <td>0.009000</td>\n",
       "      <td>NaN</td>\n",
       "      <td>392.248856</td>\n",
       "    </tr>\n",
       "    <tr>\n",
       "      <th>4</th>\n",
       "      <td>numba</td>\n",
       "      <td>0.009448</td>\n",
       "      <td>[[46.7619035508464, 51.01059403987534, 50.7739...</td>\n",
       "      <td>373.641726</td>\n",
       "    </tr>\n",
       "    <tr>\n",
       "      <th>5</th>\n",
       "      <td>taichi</td>\n",
       "      <td>0.189828</td>\n",
       "      <td>[[46.76190355084639, 51.01059403987536, 50.773...</td>\n",
       "      <td>18.597071</td>\n",
       "    </tr>\n",
       "    <tr>\n",
       "      <th>6</th>\n",
       "      <td>cythonv0</td>\n",
       "      <td>3.123368</td>\n",
       "      <td>[[46.7619035508464, 51.01059403987534, 50.7739...</td>\n",
       "      <td>1.130267</td>\n",
       "    </tr>\n",
       "    <tr>\n",
       "      <th>7</th>\n",
       "      <td>np_hand_coded</td>\n",
       "      <td>3.530240</td>\n",
       "      <td>[[46.7619035508464, 51.01059403987534, 50.7739...</td>\n",
       "      <td>1.000000</td>\n",
       "    </tr>\n",
       "  </tbody>\n",
       "</table>\n",
       "</div>"
      ],
      "text/plain": [
       "        function  duration                                            results  \\\n",
       "0     np_builtin  0.001145  [[46.7619035508464, 51.01059403987535, 50.7739...   \n",
       "1       cythonv2  0.008039  [[46.7619035508464, 51.01059403987534, 50.7739...   \n",
       "2       cythonv1  0.008202  [[46.7619035508464, 51.01059403987534, 50.7739...   \n",
       "3       native_c  0.009000                                                NaN   \n",
       "4          numba  0.009448  [[46.7619035508464, 51.01059403987534, 50.7739...   \n",
       "5         taichi  0.189828  [[46.76190355084639, 51.01059403987536, 50.773...   \n",
       "6       cythonv0  3.123368  [[46.7619035508464, 51.01059403987534, 50.7739...   \n",
       "7  np_hand_coded  3.530240  [[46.7619035508464, 51.01059403987534, 50.7739...   \n",
       "\n",
       "      speed_up  \n",
       "0  3081.945404  \n",
       "1   439.165337  \n",
       "2   430.434347  \n",
       "3   392.248856  \n",
       "4   373.641726  \n",
       "5    18.597071  \n",
       "6     1.130267  \n",
       "7     1.000000  "
      ]
     },
     "execution_count": 25,
     "metadata": {},
     "output_type": "execute_result"
    }
   ],
   "source": [
    "df = df.groupby(\"function\").mean().sort_values(by=\"duration\")\n",
    "df.reset_index(inplace=True)\n",
    "df.rename(columns={'index': 'function'}, inplace=True)\n",
    "df['speed_up'] = df[df.function == 'np_hand_coded'].duration.values[0] / df['duration'] \n",
    "df"
   ]
  },
  {
   "cell_type": "code",
   "execution_count": 26,
   "metadata": {},
   "outputs": [
    {
     "data": {
      "image/png": "[encoded data removed]",
      "text/plain": [
       "<Figure size 640x480 with 1 Axes>"
      ]
     },
     "metadata": {},
     "output_type": "display_data"
    }
   ],
   "source": [
    "import matplotlib.pyplot as plt\n",
    "\n",
    "# Define the desired order\n",
    "order = ['np_hand_coded', 'native_c', 'np_builtin', 'numba', 'taichi', 'cythonv0', 'cythonv1', 'cythonv2']\n",
    "\n",
    "# Sort the DataFrame by the 'function' column based on the desired order\n",
    "df['function'] = df['function'].astype('category')\n",
    "df['function'] = df['function'].cat.set_categories(order)\n",
    "df.sort_values('function', inplace=True)\n",
    "\n",
    "# Plot the data\n",
    "ax = df.plot(kind='bar', x='function', y='duration', legend=False)\n",
    "\n",
    "plt.xlabel('Implementation')\n",
    "plt.ylabel('Seconds (log scale)')\n",
    "plt.xticks(rotation=45)  # Rotate x-axis labels by 45 degrees\n",
    "plt.yscale('log')  # Set y-axis to logarithmic scale\n",
    "plt.title(f'Mean Elapsed Time for Mulitplying {DIM_SIZE}-by-{DIM_SIZE} Matrix')\n",
    "\n",
    "# Add duration values on top of the bars\n",
    "for p in ax.patches:\n",
    "    ax.annotate(format(p.get_height(), '.2e'), \n",
    "                (p.get_x() + p.get_width() / 2., p.get_height()), \n",
    "                ha = 'center', va = 'top', \n",
    "                xytext = (0, 10), \n",
    "                textcoords = 'offset points')\n",
    "# Remove top and right lines\n",
    "ax.spines['top'].set_visible(False)\n",
    "ax.spines['right'].set_visible(False)\n",
    "\n",
    "plt.tight_layout()  # Adjust layout to prevent labels from being cut off\n",
    "plt.savefig('matrix_multiply_time.png', dpi=300)\n",
    "plt.show()"
   ]
  },
  {
   "cell_type": "code",
   "execution_count": 27,
   "metadata": {},
   "outputs": [
    {
     "data": {
      "image/png": "[encoded data removed]",
      "text/plain": [
       "<Figure size 640x480 with 1 Axes>"
      ]
     },
     "metadata": {},
     "output_type": "display_data"
    }
   ],
   "source": [
    "# Retrieve speed-up value for \"native_c\"\n",
    "speed_up_native_c = df.loc[df['function'] == 'native_c', 'speed_up'].values[0]\n",
    "\n",
    "# Plot the data\n",
    "ax = df.plot(kind='bar', x='function', y='speed_up', legend=False)\n",
    "\n",
    "# Change the color of the \"native_c\" bar to red\n",
    "for i, bar in enumerate(ax.patches):\n",
    "    if df['function'].iloc[i] == 'native_c':\n",
    "        bar.set_color('red')\n",
    "\n",
    "# label plot\n",
    "plt.xlabel('Implementation')\n",
    "plt.ylabel('Speed-up (log scale)')\n",
    "plt.xticks(rotation=45)  # Rotate x-axis labels by 45 degrees\n",
    "plt.yscale('log')  # Set y-axis to logarithmic scale\n",
    "plt.title(f'Mean Speed-up: Mulitplying {DIM_SIZE}-by-{DIM_SIZE} Matrix')\n",
    "\n",
    "# Add duration values on top of the bars\n",
    "for i, p in enumerate(ax.patches):\n",
    "    # Use the \"equal sign\" for \"np_hand_coded\" and the \"approximately equal\" sign for all others\n",
    "    prefix = '' if df['function'].iloc[i] == 'np_hand_coded' else '≈'\n",
    "    ax.annotate(prefix + format(p.get_height(), '.0f') + 'X', \n",
    "                (p.get_x() + p.get_width() / 2., p.get_height()), \n",
    "                ha = 'center', va = 'top', \n",
    "                xytext = (0, 10), \n",
    "                textcoords = 'offset points')\n",
    "\n",
    "# Draw horizontal reference line at the speed-up value for \"native_c\"\n",
    "plt.axhline(y=speed_up_native_c, color='r', linestyle='--')\n",
    "\n",
    "# Annotate the reference line\n",
    "plt.annotate('native_c\\nspeed-up', xy=(0, speed_up_native_c), xytext=(-10, 20), \n",
    "             textcoords='offset points', arrowprops=dict(arrowstyle='->'),\n",
    "             va=\"bottom\", ha=\"left\", color='r')\n",
    "\n",
    "# Remove top and right lines\n",
    "ax.spines['top'].set_visible(False)\n",
    "ax.spines['right'].set_visible(False)\n",
    "\n",
    "plt.tight_layout()  # Adjust layout to prevent labels from being cut off\n",
    "plt.savefig('matrix_multiply_speedup.png', dpi=300)\n",
    "plt.show()"
   ]
  },
  {
   "cell_type": "code",
   "execution_count": null,
   "metadata": {},
   "outputs": [],
   "source": []
  }
 ],
 "metadata": {
  "kernelspec": {
   "display_name": "Python 3",
   "language": "python",
   "name": "python3"
  },
  "language_info": {
   "codemirror_mode": {
    "name": "ipython",
    "version": 3
   },
   "file_extension": ".py",
   "mimetype": "text/x-python",
   "name": "python",
   "nbconvert_exporter": "python",
   "pygments_lexer": "ipython3",
   "version": "3.10.12"
  }
 },
 "nbformat": 4,
 "nbformat_minor": 2
}
