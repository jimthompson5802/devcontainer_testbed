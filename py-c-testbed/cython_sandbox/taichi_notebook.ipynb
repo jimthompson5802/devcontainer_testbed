{
 "cells": [
  {
   "cell_type": "code",
   "execution_count": 1,
   "metadata": {},
   "outputs": [
    {
     "data": {
      "text/plain": [
       "(array([[1., 2., 3.],\n",
       "        [4., 5., 6.]]),\n",
       " array([[ 7.,  8.],\n",
       "        [ 9., 10.],\n",
       "        [11., 12.]]))"
      ]
     },
     "execution_count": 1,
     "metadata": {},
     "output_type": "execute_result"
    }
   ],
   "source": [
    "import numpy as np \n",
    "\n",
    "A = np.array([[1, 2, 3], [4, 5, 6]], dtype=float)\n",
    "B = np.array([[7, 8], [9, 10], [11, 12]], dtype=float)\n",
    "A,B"
   ]
  },
  {
   "cell_type": "code",
   "execution_count": 2,
   "metadata": {},
   "outputs": [
    {
     "name": "stdout",
     "output_type": "stream",
     "text": [
      "[Taichi] version 1.7.0, llvm 15.0.4, commit 2fd24490, linux, python 3.10.12\n"
     ]
    },
    {
     "name": "stderr",
     "output_type": "stream",
     "text": [
      "[I 12/29/23 10:59:47.585 7900] [shell.py:_shell_pop_print@23] Graphical python shell detected, using wrapped sys.stdout\n"
     ]
    },
    {
     "name": "stdout",
     "output_type": "stream",
     "text": [
      "[Taichi] Starting on arch=x64\n",
      "[[ 0.  0.  0.  0.  0.  0.  0.  0.  0.  0.]\n",
      " [ 0.  0.  0.  0.  0.  0.  0.  0.  0.  0.]\n",
      " [ 0.  0.  0.  0.  0.  0.  0.  0.  0.  0.]\n",
      " [ 0.  0.  0.  0. 10.  0.  0.  0.  0.  0.]\n",
      " [ 0.  0.  0.  0.  0.  0.  0.  0.  0.  0.]\n",
      " [ 0.  0.  0.  0.  0.  0.  0.  0.  0.  0.]\n",
      " [ 0.  0.  0.  0.  0.  0.  0.  0.  0.  0.]\n",
      " [ 0.  0.  0.  0.  0.  0.  0.  0.  0.  0.]\n",
      " [ 0.  0.  0.  0.  0.  0.  0.  0.  0.  0.]\n",
      " [ 0.  0.  0.  0.  0.  0.  0.  0.  0.  0.]]\n"
     ]
    }
   ],
   "source": [
    "import taichi as ti\n",
    "import numpy as np\n",
    "\n",
    "# Initialize Taichi\n",
    "ti.init()\n",
    "\n",
    "# Create a Taichi ndarray\n",
    "taichi_array = ti.ndarray(ti.f32, shape=(10, 10))\n",
    "\n",
    "# Perform operations on the Taichi ndarray (if necessary)\n",
    "taichi_array[3, 4] = 10\n",
    "\n",
    "# Convert to a NumPy array\n",
    "numpy_array = taichi_array.to_numpy()\n",
    "print(numpy_array)\n"
   ]
  },
  {
   "cell_type": "code",
   "execution_count": 3,
   "metadata": {},
   "outputs": [
    {
     "name": "stdout",
     "output_type": "stream",
     "text": [
      "[Taichi] Starting on arch=x64\n",
      "[[0. 1. 2. 3. 4.]\n",
      " [1. 2. 3. 4. 5.]\n",
      " [2. 3. 4. 5. 6.]\n",
      " [3. 4. 5. 6. 7.]\n",
      " [4. 5. 6. 7. 8.]]\n"
     ]
    }
   ],
   "source": [
    "import taichi as ti\n",
    "import numpy as np\n",
    "ti.init()\n",
    "\n",
    "a = np.zeros((5, 5))\n",
    "\n",
    "@ti.kernel\n",
    "def test(a: ti.types.ndarray()):\n",
    "    for i in range(a.shape[0]):  # a parallel for loop\n",
    "        for j in range(a.shape[1]):\n",
    "            a[i, j] = i + j\n",
    "\n",
    "test(a)\n",
    "print(a)"
   ]
  },
  {
   "cell_type": "code",
   "execution_count": 32,
   "metadata": {},
   "outputs": [
    {
     "name": "stdout",
     "output_type": "stream",
     "text": [
      "[Taichi] Starting on arch=x64\n"
     ]
    }
   ],
   "source": [
    "import taichi as ti\n",
    "import numpy as np\n",
    "\n",
    "ti.init(arch=ti.cpu)  # Use CPU by default\n",
    "\n",
    "def matrix_multiply_numpy_to_taichi(A: np.ndarray, B: np.ndarray) -> np.ndarray:\n",
    "    C = ti.field(shape=(A.shape[0], B.shape[1]), dtype=ti.f64)\n",
    "\n",
    "    # Convert the numpy arrays to Taichi ndarrays\n",
    "    A_ti = ti.field(shape=A.shape, dtype=ti.f64)\n",
    "    B_ti = ti.field(shape=B.shape, dtype=ti.f64)\n",
    "    A_ti.from_numpy(A)\n",
    "    B_ti.from_numpy(B)\n",
    "    sum = ti.field(dtype=ti.f64, shape=())\n",
    "\n",
    "    @ti.kernel\n",
    "    def _taichi_compute():\n",
    "        for i in range(A.shape[0]):\n",
    "            for j in range(B.shape[1]):\n",
    "                sum[None] = 0.0\n",
    "                for k in range(A.shape[1]):\n",
    "                    sum[None] += A_ti[i, k] * B_ti[k, j]\n",
    "                C[i,j] = sum[None]\n",
    "\n",
    "    _taichi_compute()\n",
    "    return C.to_numpy()\n",
    "\n"
   ]
  },
  {
   "cell_type": "code",
   "execution_count": 33,
   "metadata": {},
   "outputs": [
    {
     "data": {
      "text/plain": [
       "(array([[1., 2., 3.],\n",
       "        [4., 5., 6.]]),\n",
       " array([[ 7.,  8.],\n",
       "        [ 9., 10.],\n",
       "        [11., 12.]]))"
      ]
     },
     "execution_count": 33,
     "metadata": {},
     "output_type": "execute_result"
    }
   ],
   "source": [
    "A, B"
   ]
  },
  {
   "cell_type": "code",
   "execution_count": 34,
   "metadata": {},
   "outputs": [
    {
     "name": "stdout",
     "output_type": "stream",
     "text": [
      "CPU times: user 117 ms, sys: 5.4 ms, total: 122 ms\n",
      "Wall time: 120 ms\n"
     ]
    },
    {
     "data": {
      "text/plain": [
       "array([[ 58.,  64.],\n",
       "       [139., 154.]])"
      ]
     },
     "execution_count": 34,
     "metadata": {},
     "output_type": "execute_result"
    }
   ],
   "source": [
    "%%time\n",
    "# Example usage\n",
    "C = matrix_multiply_numpy_to_taichi(A, B)\n",
    "C\n"
   ]
  },
  {
   "cell_type": "code",
   "execution_count": 38,
   "metadata": {},
   "outputs": [
    {
     "data": {
      "text/plain": [
       "((20, 30), (30, 40))"
      ]
     },
     "execution_count": 38,
     "metadata": {},
     "output_type": "execute_result"
    }
   ],
   "source": [
    "A1 = np.random.randn(20, 30)\n",
    "B1 = np.random.randn(30, 40)\n",
    "A1.shape, B1.shape"
   ]
  },
  {
   "cell_type": "code",
   "execution_count": 39,
   "metadata": {},
   "outputs": [
    {
     "name": "stdout",
     "output_type": "stream",
     "text": [
      "CPU times: user 282 ms, sys: 5.9 ms, total: 288 ms\n",
      "Wall time: 286 ms\n"
     ]
    },
    {
     "data": {
      "text/plain": [
       "(20, 40)"
      ]
     },
     "execution_count": 39,
     "metadata": {},
     "output_type": "execute_result"
    }
   ],
   "source": [
    "%%time\n",
    "# Example usage\n",
    "C1 = matrix_multiply_numpy_to_taichi(A1, B1)\n",
    "C1.shape\n"
   ]
  }
 ],
 "metadata": {
  "kernelspec": {
   "display_name": "Python 3",
   "language": "python",
   "name": "python3"
  },
  "language_info": {
   "codemirror_mode": {
    "name": "ipython",
    "version": 3
   },
   "file_extension": ".py",
   "mimetype": "text/x-python",
   "name": "python",
   "nbconvert_exporter": "python",
   "pygments_lexer": "ipython3",
   "version": "3.10.12"
  }
 },
 "nbformat": 4,
 "nbformat_minor": 2
}
